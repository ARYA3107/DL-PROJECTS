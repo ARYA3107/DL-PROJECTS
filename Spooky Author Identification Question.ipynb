{
 "cells": [
  {
   "cell_type": "markdown",
   "id": "544d40ff",
   "metadata": {},
   "source": [
    "## Spooky Author Identification"
   ]
  },
  {
   "cell_type": "markdown",
   "id": "12c5b3b5",
   "metadata": {},
   "source": [
    "### Import necessary libraries"
   ]
  },
  {
   "cell_type": "code",
   "execution_count": 1,
   "id": "c407690c",
   "metadata": {},
   "outputs": [],
   "source": [
    "import numpy as np \n",
    "import pandas as pd\n",
    "import matplotlib.pyplot as plt\n",
    "import seaborn as sns"
   ]
  },
  {
   "cell_type": "markdown",
   "id": "5dd4756d",
   "metadata": {},
   "source": [
    "### Read 'spooky.csv' dataset"
   ]
  },
  {
   "cell_type": "code",
   "execution_count": 2,
   "id": "34d171a9",
   "metadata": {},
   "outputs": [],
   "source": [
    "df=pd.read_csv('spooky.csv')"
   ]
  },
  {
   "cell_type": "code",
   "execution_count": 3,
   "id": "8b475f87",
   "metadata": {},
   "outputs": [
    {
     "data": {
      "text/html": [
       "<div>\n",
       "<style scoped>\n",
       "    .dataframe tbody tr th:only-of-type {\n",
       "        vertical-align: middle;\n",
       "    }\n",
       "\n",
       "    .dataframe tbody tr th {\n",
       "        vertical-align: top;\n",
       "    }\n",
       "\n",
       "    .dataframe thead th {\n",
       "        text-align: right;\n",
       "    }\n",
       "</style>\n",
       "<table border=\"1\" class=\"dataframe\">\n",
       "  <thead>\n",
       "    <tr style=\"text-align: right;\">\n",
       "      <th></th>\n",
       "      <th>id</th>\n",
       "      <th>text</th>\n",
       "      <th>author</th>\n",
       "    </tr>\n",
       "  </thead>\n",
       "  <tbody>\n",
       "    <tr>\n",
       "      <th>0</th>\n",
       "      <td>id26305</td>\n",
       "      <td>This process, however, afforded me no means of...</td>\n",
       "      <td>EAP</td>\n",
       "    </tr>\n",
       "    <tr>\n",
       "      <th>1</th>\n",
       "      <td>id17569</td>\n",
       "      <td>It never once occurred to me that the fumbling...</td>\n",
       "      <td>HPL</td>\n",
       "    </tr>\n",
       "    <tr>\n",
       "      <th>2</th>\n",
       "      <td>id11008</td>\n",
       "      <td>In his left hand was a gold snuff box, from wh...</td>\n",
       "      <td>EAP</td>\n",
       "    </tr>\n",
       "    <tr>\n",
       "      <th>3</th>\n",
       "      <td>id27763</td>\n",
       "      <td>How lovely is spring As we looked from Windsor...</td>\n",
       "      <td>MWS</td>\n",
       "    </tr>\n",
       "    <tr>\n",
       "      <th>4</th>\n",
       "      <td>id12958</td>\n",
       "      <td>Finding nothing else, not even gold, the Super...</td>\n",
       "      <td>HPL</td>\n",
       "    </tr>\n",
       "  </tbody>\n",
       "</table>\n",
       "</div>"
      ],
      "text/plain": [
       "        id                                               text author\n",
       "0  id26305  This process, however, afforded me no means of...    EAP\n",
       "1  id17569  It never once occurred to me that the fumbling...    HPL\n",
       "2  id11008  In his left hand was a gold snuff box, from wh...    EAP\n",
       "3  id27763  How lovely is spring As we looked from Windsor...    MWS\n",
       "4  id12958  Finding nothing else, not even gold, the Super...    HPL"
      ]
     },
     "execution_count": 3,
     "metadata": {},
     "output_type": "execute_result"
    }
   ],
   "source": [
    "df.head()"
   ]
  },
  {
   "cell_type": "markdown",
   "id": "0e077888",
   "metadata": {},
   "source": [
    "### Drop 'id' column"
   ]
  },
  {
   "cell_type": "code",
   "execution_count": 4,
   "id": "446135ed",
   "metadata": {},
   "outputs": [
    {
     "data": {
      "text/html": [
       "<div>\n",
       "<style scoped>\n",
       "    .dataframe tbody tr th:only-of-type {\n",
       "        vertical-align: middle;\n",
       "    }\n",
       "\n",
       "    .dataframe tbody tr th {\n",
       "        vertical-align: top;\n",
       "    }\n",
       "\n",
       "    .dataframe thead th {\n",
       "        text-align: right;\n",
       "    }\n",
       "</style>\n",
       "<table border=\"1\" class=\"dataframe\">\n",
       "  <thead>\n",
       "    <tr style=\"text-align: right;\">\n",
       "      <th></th>\n",
       "      <th>text</th>\n",
       "      <th>author</th>\n",
       "    </tr>\n",
       "  </thead>\n",
       "  <tbody>\n",
       "    <tr>\n",
       "      <th>0</th>\n",
       "      <td>This process, however, afforded me no means of...</td>\n",
       "      <td>EAP</td>\n",
       "    </tr>\n",
       "    <tr>\n",
       "      <th>1</th>\n",
       "      <td>It never once occurred to me that the fumbling...</td>\n",
       "      <td>HPL</td>\n",
       "    </tr>\n",
       "    <tr>\n",
       "      <th>2</th>\n",
       "      <td>In his left hand was a gold snuff box, from wh...</td>\n",
       "      <td>EAP</td>\n",
       "    </tr>\n",
       "    <tr>\n",
       "      <th>3</th>\n",
       "      <td>How lovely is spring As we looked from Windsor...</td>\n",
       "      <td>MWS</td>\n",
       "    </tr>\n",
       "    <tr>\n",
       "      <th>4</th>\n",
       "      <td>Finding nothing else, not even gold, the Super...</td>\n",
       "      <td>HPL</td>\n",
       "    </tr>\n",
       "    <tr>\n",
       "      <th>...</th>\n",
       "      <td>...</td>\n",
       "      <td>...</td>\n",
       "    </tr>\n",
       "    <tr>\n",
       "      <th>19574</th>\n",
       "      <td>I could have fancied, while I looked at it, th...</td>\n",
       "      <td>EAP</td>\n",
       "    </tr>\n",
       "    <tr>\n",
       "      <th>19575</th>\n",
       "      <td>The lids clenched themselves together as if in...</td>\n",
       "      <td>EAP</td>\n",
       "    </tr>\n",
       "    <tr>\n",
       "      <th>19576</th>\n",
       "      <td>Mais il faut agir that is to say, a Frenchman ...</td>\n",
       "      <td>EAP</td>\n",
       "    </tr>\n",
       "    <tr>\n",
       "      <th>19577</th>\n",
       "      <td>For an item of news like this, it strikes us i...</td>\n",
       "      <td>EAP</td>\n",
       "    </tr>\n",
       "    <tr>\n",
       "      <th>19578</th>\n",
       "      <td>He laid a gnarled claw on my shoulder, and it ...</td>\n",
       "      <td>HPL</td>\n",
       "    </tr>\n",
       "  </tbody>\n",
       "</table>\n",
       "<p>19579 rows × 2 columns</p>\n",
       "</div>"
      ],
      "text/plain": [
       "                                                    text author\n",
       "0      This process, however, afforded me no means of...    EAP\n",
       "1      It never once occurred to me that the fumbling...    HPL\n",
       "2      In his left hand was a gold snuff box, from wh...    EAP\n",
       "3      How lovely is spring As we looked from Windsor...    MWS\n",
       "4      Finding nothing else, not even gold, the Super...    HPL\n",
       "...                                                  ...    ...\n",
       "19574  I could have fancied, while I looked at it, th...    EAP\n",
       "19575  The lids clenched themselves together as if in...    EAP\n",
       "19576  Mais il faut agir that is to say, a Frenchman ...    EAP\n",
       "19577  For an item of news like this, it strikes us i...    EAP\n",
       "19578  He laid a gnarled claw on my shoulder, and it ...    HPL\n",
       "\n",
       "[19579 rows x 2 columns]"
      ]
     },
     "execution_count": 4,
     "metadata": {},
     "output_type": "execute_result"
    }
   ],
   "source": [
    "df.drop(columns='id')"
   ]
  },
  {
   "cell_type": "code",
   "execution_count": 7,
   "id": "1efcddd5",
   "metadata": {},
   "outputs": [
    {
     "data": {
      "text/html": [
       "<div>\n",
       "<style scoped>\n",
       "    .dataframe tbody tr th:only-of-type {\n",
       "        vertical-align: middle;\n",
       "    }\n",
       "\n",
       "    .dataframe tbody tr th {\n",
       "        vertical-align: top;\n",
       "    }\n",
       "\n",
       "    .dataframe thead th {\n",
       "        text-align: right;\n",
       "    }\n",
       "</style>\n",
       "<table border=\"1\" class=\"dataframe\">\n",
       "  <thead>\n",
       "    <tr style=\"text-align: right;\">\n",
       "      <th></th>\n",
       "      <th>text</th>\n",
       "      <th>author</th>\n",
       "    </tr>\n",
       "  </thead>\n",
       "  <tbody>\n",
       "    <tr>\n",
       "      <th>0</th>\n",
       "      <td>This process, however, afforded me no means of...</td>\n",
       "      <td>EAP</td>\n",
       "    </tr>\n",
       "    <tr>\n",
       "      <th>1</th>\n",
       "      <td>It never once occurred to me that the fumbling...</td>\n",
       "      <td>HPL</td>\n",
       "    </tr>\n",
       "    <tr>\n",
       "      <th>2</th>\n",
       "      <td>In his left hand was a gold snuff box, from wh...</td>\n",
       "      <td>EAP</td>\n",
       "    </tr>\n",
       "    <tr>\n",
       "      <th>3</th>\n",
       "      <td>How lovely is spring As we looked from Windsor...</td>\n",
       "      <td>MWS</td>\n",
       "    </tr>\n",
       "    <tr>\n",
       "      <th>4</th>\n",
       "      <td>Finding nothing else, not even gold, the Super...</td>\n",
       "      <td>HPL</td>\n",
       "    </tr>\n",
       "    <tr>\n",
       "      <th>...</th>\n",
       "      <td>...</td>\n",
       "      <td>...</td>\n",
       "    </tr>\n",
       "    <tr>\n",
       "      <th>19574</th>\n",
       "      <td>I could have fancied, while I looked at it, th...</td>\n",
       "      <td>EAP</td>\n",
       "    </tr>\n",
       "    <tr>\n",
       "      <th>19575</th>\n",
       "      <td>The lids clenched themselves together as if in...</td>\n",
       "      <td>EAP</td>\n",
       "    </tr>\n",
       "    <tr>\n",
       "      <th>19576</th>\n",
       "      <td>Mais il faut agir that is to say, a Frenchman ...</td>\n",
       "      <td>EAP</td>\n",
       "    </tr>\n",
       "    <tr>\n",
       "      <th>19577</th>\n",
       "      <td>For an item of news like this, it strikes us i...</td>\n",
       "      <td>EAP</td>\n",
       "    </tr>\n",
       "    <tr>\n",
       "      <th>19578</th>\n",
       "      <td>He laid a gnarled claw on my shoulder, and it ...</td>\n",
       "      <td>HPL</td>\n",
       "    </tr>\n",
       "  </tbody>\n",
       "</table>\n",
       "<p>19579 rows × 2 columns</p>\n",
       "</div>"
      ],
      "text/plain": [
       "                                                    text author\n",
       "0      This process, however, afforded me no means of...    EAP\n",
       "1      It never once occurred to me that the fumbling...    HPL\n",
       "2      In his left hand was a gold snuff box, from wh...    EAP\n",
       "3      How lovely is spring As we looked from Windsor...    MWS\n",
       "4      Finding nothing else, not even gold, the Super...    HPL\n",
       "...                                                  ...    ...\n",
       "19574  I could have fancied, while I looked at it, th...    EAP\n",
       "19575  The lids clenched themselves together as if in...    EAP\n",
       "19576  Mais il faut agir that is to say, a Frenchman ...    EAP\n",
       "19577  For an item of news like this, it strikes us i...    EAP\n",
       "19578  He laid a gnarled claw on my shoulder, and it ...    HPL\n",
       "\n",
       "[19579 rows x 2 columns]"
      ]
     },
     "execution_count": 7,
     "metadata": {},
     "output_type": "execute_result"
    }
   ],
   "source": [
    "df"
   ]
  },
  {
   "cell_type": "markdown",
   "id": "20b4579d",
   "metadata": {},
   "source": [
    "### Check for missing values"
   ]
  },
  {
   "cell_type": "code",
   "execution_count": 5,
   "id": "3e837946",
   "metadata": {},
   "outputs": [
    {
     "data": {
      "text/plain": [
       "id        0\n",
       "text      0\n",
       "author    0\n",
       "dtype: int64"
      ]
     },
     "execution_count": 5,
     "metadata": {},
     "output_type": "execute_result"
    }
   ],
   "source": [
    "df.isna().sum()"
   ]
  },
  {
   "cell_type": "markdown",
   "id": "004c7972",
   "metadata": {},
   "source": [
    "### Check for duplicates"
   ]
  },
  {
   "cell_type": "code",
   "execution_count": 6,
   "id": "b56d6506",
   "metadata": {},
   "outputs": [
    {
     "data": {
      "text/plain": [
       "0"
      ]
     },
     "execution_count": 6,
     "metadata": {},
     "output_type": "execute_result"
    }
   ],
   "source": [
    "df.duplicated().sum()"
   ]
  },
  {
   "cell_type": "markdown",
   "id": "b8edd7fe",
   "metadata": {},
   "source": [
    "### Print some of the text along with its author"
   ]
  },
  {
   "cell_type": "code",
   "execution_count": 7,
   "id": "15c616e7",
   "metadata": {},
   "outputs": [
    {
     "name": "stdout",
     "output_type": "stream",
     "text": [
      "This process, however, afforded me no means of ascertaining the dimensions of my dungeon; as I might make its circuit, and return to the point whence I set out, without being aware of the fact; so perfectly uniform seemed the wall. - EAP\n",
      "\n",
      "It never once occurred to me that the fumbling might be a mere mistake. - HPL\n",
      "\n",
      "In his left hand was a gold snuff box, from which, as he capered down the hill, cutting all manner of fantastic steps, he took snuff incessantly with an air of the greatest possible self satisfaction. - EAP\n",
      "\n",
      "How lovely is spring As we looked from Windsor Terrace on the sixteen fertile counties spread beneath, speckled by happy cottages and wealthier towns, all looked as in former years, heart cheering and fair. - MWS\n",
      "\n",
      "Finding nothing else, not even gold, the Superintendent abandoned his attempts; but a perplexed look occasionally steals over his countenance as he sits thinking at his desk. - HPL\n",
      "\n"
     ]
    }
   ],
   "source": [
    "for i in range(5):\n",
    "    print(df['text'][i],'-',df['author'][i])\n",
    "    print()"
   ]
  },
  {
   "cell_type": "markdown",
   "id": "f15928e1",
   "metadata": {},
   "source": [
    "### Create a function to preproces the text"
   ]
  },
  {
   "cell_type": "code",
   "execution_count": 8,
   "id": "8a9148c8",
   "metadata": {},
   "outputs": [],
   "source": [
    "import re\n",
    "from nltk.stem import WordNetLemmatizer"
   ]
  },
  {
   "cell_type": "code",
   "execution_count": 9,
   "id": "1fd6274e",
   "metadata": {},
   "outputs": [],
   "source": [
    "def preprocess(sentence):\n",
    "    sentence=sentence.lower()\n",
    "    text= re.sub(r\"[^0-9a-zA-Z]\",' ',sentence).split()\n",
    "    \n",
    "    lemma=WordNetLemmatizer()\n",
    "    word=[lemma.lemmatize(word,'v') for word in text]\n",
    "    \n",
    "    return ' '.join(word)"
   ]
  },
  {
   "cell_type": "code",
   "execution_count": 10,
   "id": "9d9ef6a6",
   "metadata": {},
   "outputs": [],
   "source": [
    "df['text']=df['text'].apply(preprocess)"
   ]
  },
  {
   "cell_type": "markdown",
   "id": "b97a5bef",
   "metadata": {},
   "source": [
    "### Print some of the text after preprocess"
   ]
  },
  {
   "cell_type": "code",
   "execution_count": 11,
   "id": "d9a48618",
   "metadata": {},
   "outputs": [
    {
     "name": "stdout",
     "output_type": "stream",
     "text": [
      "this process however afford me no mean of ascertain the dimension of my dungeon as i might make its circuit and return to the point whence i set out without be aware of the fact so perfectly uniform seem the wall - EAP\n",
      "\n",
      "it never once occur to me that the fumble might be a mere mistake - HPL\n",
      "\n",
      "in his leave hand be a gold snuff box from which as he caper down the hill cut all manner of fantastic step he take snuff incessantly with an air of the greatest possible self satisfaction - EAP\n",
      "\n",
      "how lovely be spring as we look from windsor terrace on the sixteen fertile counties spread beneath speckle by happy cottages and wealthier towns all look as in former years heart cheer and fair - MWS\n",
      "\n",
      "find nothing else not even gold the superintendent abandon his attempt but a perplex look occasionally steal over his countenance as he sit think at his desk - HPL\n",
      "\n"
     ]
    }
   ],
   "source": [
    "for i in range(5):\n",
    "    print(df['text'][i],'-',df['author'][i])\n",
    "    print()"
   ]
  },
  {
   "cell_type": "markdown",
   "id": "fcf2c9b4",
   "metadata": {},
   "source": [
    "### Check for imbalance in the dataset"
   ]
  },
  {
   "cell_type": "code",
   "execution_count": 12,
   "id": "7fa7ac1f",
   "metadata": {},
   "outputs": [
    {
     "data": {
      "text/plain": [
       "<Axes: ylabel='count'>"
      ]
     },
     "execution_count": 12,
     "metadata": {},
     "output_type": "execute_result"
    },
    {
     "data": {
      "image/png": "[encoded data removed]",
      "text/plain": [
       "<Figure size 1200x600 with 2 Axes>"
      ]
     },
     "metadata": {},
     "output_type": "display_data"
    }
   ],
   "source": [
    "plt.figure(figsize=(12,6))\n",
    "plt.subplot(1,2,1)\n",
    "sns.countplot(y=df['author'])\n",
    "\n",
    "plt.subplot(1,2,2)\n",
    "df['author'].value_counts().plot.pie(autopct='%1.i%%',cmap='plasma')"
   ]
  },
  {
   "cell_type": "markdown",
   "id": "947216be",
   "metadata": {},
   "source": [
    "### Split the dataset into Input & Target Variables"
   ]
  },
  {
   "cell_type": "code",
   "execution_count": 13,
   "id": "b0b8e053",
   "metadata": {},
   "outputs": [],
   "source": [
    "X=df['text']\n",
    "y=df['author']"
   ]
  },
  {
   "cell_type": "markdown",
   "id": "0a878bb4",
   "metadata": {},
   "source": [
    "### Label Encode our target variables"
   ]
  },
  {
   "cell_type": "code",
   "execution_count": 14,
   "id": "8e8e1dff",
   "metadata": {},
   "outputs": [],
   "source": [
    "from sklearn.preprocessing import LabelBinarizer"
   ]
  },
  {
   "cell_type": "code",
   "execution_count": 15,
   "id": "84e02289",
   "metadata": {},
   "outputs": [],
   "source": [
    "encoder=LabelBinarizer()"
   ]
  },
  {
   "cell_type": "code",
   "execution_count": 16,
   "id": "5be2472c",
   "metadata": {},
   "outputs": [],
   "source": [
    "y=encoder.fit_transform(y)"
   ]
  },
  {
   "cell_type": "code",
   "execution_count": 17,
   "id": "fc5768a3",
   "metadata": {},
   "outputs": [
    {
     "data": {
      "text/plain": [
       "array([[1, 0, 0],\n",
       "       [0, 1, 0],\n",
       "       [1, 0, 0],\n",
       "       ...,\n",
       "       [1, 0, 0],\n",
       "       [1, 0, 0],\n",
       "       [0, 1, 0]])"
      ]
     },
     "execution_count": 17,
     "metadata": {},
     "output_type": "execute_result"
    }
   ],
   "source": [
    "y"
   ]
  },
  {
   "cell_type": "markdown",
   "id": "fdec3f7c",
   "metadata": {},
   "source": [
    "### Create Keras tokenizer object with 5000 max words\n",
    "* Convert text to sequence\n",
    "* Add padding"
   ]
  },
  {
   "cell_type": "code",
   "execution_count": 18,
   "id": "cef81ba4",
   "metadata": {},
   "outputs": [],
   "source": [
    "from tensorflow.keras.preprocessing.text import Tokenizer\n",
    "from tensorflow.keras.preprocessing.sequence import pad_sequences"
   ]
  },
  {
   "cell_type": "code",
   "execution_count": 19,
   "id": "e8e64093",
   "metadata": {},
   "outputs": [],
   "source": [
    "tokenizer=Tokenizer(num_words=5000)"
   ]
  },
  {
   "cell_type": "code",
   "execution_count": 20,
   "id": "2e55a586",
   "metadata": {},
   "outputs": [],
   "source": [
    "tokenizer.fit_on_texts(X)"
   ]
  },
  {
   "cell_type": "code",
   "execution_count": 21,
   "id": "2690bb1e",
   "metadata": {},
   "outputs": [],
   "source": [
    "vocab_size=len(tokenizer.word_index)+1"
   ]
  },
  {
   "cell_type": "code",
   "execution_count": 22,
   "id": "88ecf708",
   "metadata": {},
   "outputs": [
    {
     "data": {
      "text/plain": [
       "19602"
      ]
     },
     "execution_count": 22,
     "metadata": {},
     "output_type": "execute_result"
    }
   ],
   "source": [
    "vocab_size"
   ]
  },
  {
   "cell_type": "code",
   "execution_count": 39,
   "id": "74e91cfc",
   "metadata": {},
   "outputs": [],
   "source": [
    "def text_encoding(txt):\n",
    "    encoded_docs=tokenizer.texts_to_sequences(txt)\n",
    "    \n",
    "    padded_sequence=pad_sequences(encoded_docs,maxlen=128)\n",
    "    return padded_sequence"
   ]
  },
  {
   "cell_type": "code",
   "execution_count": 40,
   "id": "06a6c76a",
   "metadata": {},
   "outputs": [],
   "source": [
    "X=text_encoding(X)"
   ]
  },
  {
   "cell_type": "markdown",
   "id": "877d7883",
   "metadata": {},
   "source": [
    "### Split the dataset into Training & Testing set"
   ]
  },
  {
   "cell_type": "code",
   "execution_count": 41,
   "id": "44d1398f",
   "metadata": {},
   "outputs": [],
   "source": [
    "from sklearn.model_selection import train_test_split"
   ]
  },
  {
   "cell_type": "code",
   "execution_count": 42,
   "id": "2bc9e9ab",
   "metadata": {},
   "outputs": [],
   "source": [
    "X_train,X_test,y_train,y_test=train_test_split(X,y,test_size=0.2)"
   ]
  },
  {
   "cell_type": "markdown",
   "id": "11d2e388",
   "metadata": {},
   "source": [
    "### Create keras Sequential model with GRU layers"
   ]
  },
  {
   "cell_type": "code",
   "execution_count": 43,
   "id": "619fa950",
   "metadata": {},
   "outputs": [],
   "source": [
    "from tensorflow.keras import Sequential,layers"
   ]
  },
  {
   "cell_type": "code",
   "execution_count": 44,
   "id": "d6512e48",
   "metadata": {},
   "outputs": [],
   "source": [
    "model=Sequential()"
   ]
  },
  {
   "cell_type": "code",
   "execution_count": 45,
   "id": "5eda5b2d",
   "metadata": {},
   "outputs": [],
   "source": [
    "model.add(layers.Embedding(vocab_size,128))\n",
    "model.add(layers.GRU(128,return_sequences=True))\n",
    "model.add(layers.Dropout(0.2))\n",
    "\n",
    "model.add(layers.GRU(128))\n",
    "model.add(layers.Dropout(0.2))\n",
    "\n",
    "model.add(layers.Dense(64,activation='relu'))\n",
    "model.add(layers.Dropout(0.2))\n",
    "\n",
    "model.add(layers.Dense(3,activation='softmax'))"
   ]
  },
  {
   "cell_type": "markdown",
   "id": "4cd30def",
   "metadata": {},
   "source": [
    "### Compile the model"
   ]
  },
  {
   "cell_type": "code",
   "execution_count": 53,
   "id": "b633bb85",
   "metadata": {},
   "outputs": [],
   "source": [
    "model.compile(optimizer='adam',loss='categorical_crossentropy',metrics=['accuracy'])"
   ]
  },
  {
   "cell_type": "markdown",
   "id": "4518b6ba",
   "metadata": {},
   "source": [
    "### Train the model"
   ]
  },
  {
   "cell_type": "code",
   "execution_count": 54,
   "id": "050a8809",
   "metadata": {},
   "outputs": [
    {
     "name": "stdout",
     "output_type": "stream",
     "text": [
      "Epoch 1/10\n",
      "465/465 [==============================] - 69s 142ms/step - loss: 0.6919 - accuracy: 0.6972 - val_loss: 0.5332 - val_accuracy: 0.7870\n",
      "Epoch 2/10\n",
      "465/465 [==============================] - 64s 137ms/step - loss: 0.3744 - accuracy: 0.8572 - val_loss: 0.5097 - val_accuracy: 0.8151\n",
      "Epoch 3/10\n",
      "465/465 [==============================] - 63s 135ms/step - loss: 0.2786 - accuracy: 0.8956 - val_loss: 0.5447 - val_accuracy: 0.7883\n",
      "Epoch 4/10\n",
      "465/465 [==============================] - 63s 135ms/step - loss: 0.2040 - accuracy: 0.9266 - val_loss: 0.5821 - val_accuracy: 0.8048\n",
      "Epoch 5/10\n",
      "465/465 [==============================] - 61s 132ms/step - loss: 0.1507 - accuracy: 0.9441 - val_loss: 0.7773 - val_accuracy: 0.7819\n",
      "Epoch 6/10\n",
      "465/465 [==============================] - 62s 132ms/step - loss: 0.1165 - accuracy: 0.9614 - val_loss: 0.7597 - val_accuracy: 0.7806\n",
      "Epoch 7/10\n",
      "465/465 [==============================] - 62s 133ms/step - loss: 0.1012 - accuracy: 0.9618 - val_loss: 0.8351 - val_accuracy: 0.8010\n",
      "Epoch 8/10\n",
      "465/465 [==============================] - 62s 133ms/step - loss: 0.0759 - accuracy: 0.9730 - val_loss: 1.0136 - val_accuracy: 0.7832\n",
      "Epoch 9/10\n",
      "465/465 [==============================] - 62s 134ms/step - loss: 0.0640 - accuracy: 0.9774 - val_loss: 1.1904 - val_accuracy: 0.7768\n",
      "Epoch 10/10\n",
      "465/465 [==============================] - 62s 134ms/step - loss: 0.0586 - accuracy: 0.9796 - val_loss: 1.0650 - val_accuracy: 0.7806\n"
     ]
    },
    {
     "data": {
      "text/plain": [
       "<keras.src.callbacks.History at 0x22257d950d0>"
      ]
     },
     "execution_count": 54,
     "metadata": {},
     "output_type": "execute_result"
    }
   ],
   "source": [
    "model.fit(X_train,y_train,epochs=10,validation_split=0.05)"
   ]
  },
  {
   "cell_type": "markdown",
   "id": "105de566",
   "metadata": {},
   "source": [
    "### Make predictions with X_test"
   ]
  },
  {
   "cell_type": "code",
   "execution_count": 55,
   "id": "e5ef703d",
   "metadata": {},
   "outputs": [
    {
     "name": "stdout",
     "output_type": "stream",
     "text": [
      "123/123 [==============================] - 5s 35ms/step\n"
     ]
    }
   ],
   "source": [
    "y_pred=modelel.predict(X_test)"
   ]
  },
  {
   "cell_type": "markdown",
   "id": "beecac60",
   "metadata": {},
   "source": [
    "### Fetch the index of the higher probable prediction"
   ]
  },
  {
   "cell_type": "code",
   "execution_count": 59,
   "id": "0324e9a7",
   "metadata": {},
   "outputs": [],
   "source": [
    "y_pred=[np.argmax(i) for i in y_pred]\n",
    "y_test=[np.argmax(i) for i in y_test]"
   ]
  },
  {
   "cell_type": "markdown",
   "id": "7f28fbe9",
   "metadata": {},
   "source": [
    "### Evaluate the model"
   ]
  },
  {
   "cell_type": "markdown",
   "id": "cef4dce8",
   "metadata": {},
   "source": [
    "#### Accuracy score"
   ]
  },
  {
   "cell_type": "code",
   "execution_count": 60,
   "id": "2ae693e6",
   "metadata": {},
   "outputs": [],
   "source": [
    "from sklearn import metrics"
   ]
  },
  {
   "cell_type": "code",
   "execution_count": 61,
   "id": "bafe7db0",
   "metadata": {},
   "outputs": [
    {
     "data": {
      "text/plain": [
       "0.3991317671092952"
      ]
     },
     "execution_count": 61,
     "metadata": {},
     "output_type": "execute_result"
    }
   ],
   "source": [
    "metrics.accuracy_score(y_test,y_pred)"
   ]
  },
  {
   "cell_type": "markdown",
   "id": "3081c7e1",
   "metadata": {},
   "source": [
    "#### Confusion matrix"
   ]
  },
  {
   "cell_type": "code",
   "execution_count": 63,
   "id": "bed3be99",
   "metadata": {},
   "outputs": [
    {
     "data": {
      "text/plain": [
       "<Axes: >"
      ]
     },
     "execution_count": 63,
     "metadata": {},
     "output_type": "execute_result"
    },
    {
     "data": {
      "image/png": "[encoded data removed]",
      "text/plain": [
       "<Figure size 640x480 with 2 Axes>"
      ]
     },
     "metadata": {},
     "output_type": "display_data"
    }
   ],
   "source": [
    "sns.heatmap(metrics.confusion_matrix(y_test,y_pred),annot=True,fmt='d')"
   ]
  },
  {
   "cell_type": "markdown",
   "id": "b3d8877e",
   "metadata": {},
   "source": [
    "#### Classification Report"
   ]
  },
  {
   "cell_type": "code",
   "execution_count": 64,
   "id": "501148a5",
   "metadata": {},
   "outputs": [
    {
     "name": "stdout",
     "output_type": "stream",
     "text": [
      "              precision    recall  f1-score   support\n",
      "\n",
      "           0       0.40      1.00      0.57      1563\n",
      "           1       0.00      0.00      0.00      1118\n",
      "           2       0.00      0.00      0.00      1235\n",
      "\n",
      "    accuracy                           0.40      3916\n",
      "   macro avg       0.13      0.33      0.19      3916\n",
      "weighted avg       0.16      0.40      0.23      3916\n",
      "\n"
     ]
    },
    {
     "name": "stderr",
     "output_type": "stream",
     "text": [
      "C:\\Users\\aryav\\anaconda3\\Lib\\site-packages\\sklearn\\metrics\\_classification.py:1469: UndefinedMetricWarning: Precision and F-score are ill-defined and being set to 0.0 in labels with no predicted samples. Use `zero_division` parameter to control this behavior.\n",
      "  _warn_prf(average, modifier, msg_start, len(result))\n",
      "C:\\Users\\aryav\\anaconda3\\Lib\\site-packages\\sklearn\\metrics\\_classification.py:1469: UndefinedMetricWarning: Precision and F-score are ill-defined and being set to 0.0 in labels with no predicted samples. Use `zero_division` parameter to control this behavior.\n",
      "  _warn_prf(average, modifier, msg_start, len(result))\n",
      "C:\\Users\\aryav\\anaconda3\\Lib\\site-packages\\sklearn\\metrics\\_classification.py:1469: UndefinedMetricWarning: Precision and F-score are ill-defined and being set to 0.0 in labels with no predicted samples. Use `zero_division` parameter to control this behavior.\n",
      "  _warn_prf(average, modifier, msg_start, len(result))\n"
     ]
    }
   ],
   "source": [
    "print(metrics.classification_report(y_test,y_pred))"
   ]
  }
 ],
 "metadata": {
  "kernelspec": {
   "display_name": "Python 3 (ipykernel)",
   "language": "python",
   "name": "python3"
  },
  "language_info": {
   "codemirror_mode": {
    "name": "ipython",
    "version": 3
   },
   "file_extension": ".py",
   "mimetype": "text/x-python",
   "name": "python",
   "nbconvert_exporter": "python",
   "pygments_lexer": "ipython3",
   "version": "3.11.5"
  }
 },
 "nbformat": 4,
 "nbformat_minor": 5
}
